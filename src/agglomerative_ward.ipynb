{
 "cells": [
  {
   "cell_type": "code",
   "execution_count": 1,
   "metadata": {},
   "outputs": [],
   "source": [
    "%matplotlib inline"
   ]
  },
  {
   "cell_type": "code",
   "execution_count": 2,
   "metadata": {},
   "outputs": [],
   "source": [
    "import os\n",
    "import time\n",
    "import sys\n",
    "\n",
    "# libs\n",
    "import sklearn.cluster as skcluster\n",
    "import numpy\n",
    "\n",
    "# project files\n",
    "import utils.filehandler as filehandler\n",
    "import view.plot as viewer\n",
    "import utils.learning as lrn"
   ]
  },
  {
   "cell_type": "code",
   "execution_count": 3,
   "metadata": {},
   "outputs": [
    {
     "name": "stdout",
     "output_type": "stream",
     "text": [
      "importing ../fer2018/fer2018.csv\n"
     ]
    },
    {
     "name": "stderr",
     "output_type": "stream",
     "text": [
      "F:\\Code_ecole\\datamining\\datamining_coursework2\\src\\utils\\filehandler.py:21: FutureWarning: Method .as_matrix will be removed in a future version. Use .values instead.\n",
      "  data = data_frame.as_matrix()\n"
     ]
    },
    {
     "name": "stdout",
     "output_type": "stream",
     "text": [
      "\n",
      "importation done in: 18.114455461502075\n",
      "happy:..... 8989\n",
      "sad:....... 6077\n",
      "angry:..... 4953\n",
      "disgust:... 547\n",
      "fear:...... 5121\n",
      "neutral:... 6198\n",
      "surprise:.. 4002\n",
      "train balanced: 2870\n",
      "validation set: 34058\n"
     ]
    }
   ],
   "source": [
    "# defining hyperparameters\n",
    "Kcluster = 7 # there is 7 emotions\n",
    "\n",
    "# import data\n",
    "dataset = filehandler.import_csv('../fer2018/fer2018.csv')\n",
    "#(x_train, y_train, x_validation, y_validation) = filehandler.classic_split(dataset, 0.75)\n",
    "(x_train, y_train, x_validation, y_validation) = filehandler.balance_dataset(dataset, 0.75)\n",
    "\n",
    "# dictionary to save and compare accuracy for different amounts of attributes\n",
    "acc_dct = {}"
   ]
  },
  {
   "cell_type": "code",
   "execution_count": 4,
   "metadata": {},
   "outputs": [],
   "source": [
    "# Classifier initialization\n",
    "classifier_full = skcluster.AgglomerativeClustering(linkage='ward', n_clusters=7)\n",
    "\n",
    "classifier70= skcluster.AgglomerativeClustering(linkage='ward', n_clusters=7)\n",
    "classifier35= skcluster.AgglomerativeClustering(linkage='ward', n_clusters=7)\n",
    "classifier14= skcluster.AgglomerativeClustering(linkage='ward', n_clusters=7)\n",
    "classifier10= skcluster.AgglomerativeClustering(linkage='ward', n_clusters=7)\n",
    "classifier5= skcluster.AgglomerativeClustering(linkage='ward', n_clusters=7)\n",
    "classifier2= skcluster.AgglomerativeClustering(linkage='ward', n_clusters=7)"
   ]
  },
  {
   "cell_type": "code",
   "execution_count": 5,
   "metadata": {},
   "outputs": [
    {
     "name": "stdout",
     "output_type": "stream",
     "text": [
      "Fitting data...\n",
      "18.096640586853027 seconds to fit data\n",
      "Making predictions...\n",
      "16.752551317214966 seconds to predict the classes\n",
      "number of estimated clusters 7\n",
      "418 out of 2870\n",
      "14.564% correctly predicted\n"
     ]
    },
    {
     "data": {
      "text/plain": [
       "0.1456445993031359"
      ]
     },
     "execution_count": 5,
     "metadata": {},
     "output_type": "execute_result"
    }
   ],
   "source": [
    "predsms = lrn.get_preds_fitpred(classifier_full, x_train, x_validation)\n",
    "labels = classifier_full.labels_\n",
    "labels_unique = numpy.unique(labels)\n",
    "print(\"number of estimated clusters\", len(labels_unique))\n",
    "# classification accuracy calculation\n",
    "viewer.overall_accuracy(acc_dct, '2304', predsms, y_train)\n",
    "#viewer.accuracy_plots('2304', predsms, y_validation)"
   ]
  },
  {
   "cell_type": "code",
   "execution_count": 6,
   "metadata": {},
   "outputs": [
    {
     "name": "stdout",
     "output_type": "stream",
     "text": [
      "importing ../fer2018/fer2018angry.csv\n"
     ]
    },
    {
     "name": "stderr",
     "output_type": "stream",
     "text": [
      "F:\\Code_ecole\\datamining\\datamining_coursework2\\src\\utils\\filehandler.py:21: FutureWarning: Method .as_matrix will be removed in a future version. Use .values instead.\n",
      "  data = data_frame.as_matrix()\n"
     ]
    },
    {
     "name": "stdout",
     "output_type": "stream",
     "text": [
      "\n",
      "importation done in: 15.248278617858887\n",
      "importing ../fer2018/fer2018disgust.csv\n",
      "\n",
      "importation done in: 17.06340003013611\n",
      "importing ../fer2018/fer2018fear.csv\n",
      "\n",
      "importation done in: 16.135477542877197\n",
      "importing ../fer2018/fer2018happy.csv\n",
      "\n",
      "importation done in: 15.933184385299683\n",
      "importing ../fer2018/fer2018sad.csv\n",
      "\n",
      "importation done in: 16.22946810722351\n",
      "importing ../fer2018/fer2018surprise.csv\n",
      "\n",
      "importation done in: 16.738813877105713\n",
      "importing ../fer2018/fer2018neutral.csv\n",
      "\n",
      "importation done in: 17.008824586868286\n",
      "Searching for top 10 attributes...\n",
      "Searching for top 5 attributes...\n",
      "Searching for top 2 attributes...\n",
      "\n",
      "Reducing datasets...\n",
      "\n",
      "70 attribute classification\n",
      "Fitting data...\n",
      "0.5196425914764404 seconds to fit data\n",
      "Making predictions...\n",
      "0.5445728302001953 seconds to predict the classes\n",
      "number of estimated clusters 7\n",
      "385 out of 2870\n",
      "13.415% correctly predicted\n",
      "\n",
      "35 attribute classification\n",
      "Fitting data...\n",
      "0.44763827323913574 seconds to fit data\n",
      "Making predictions...\n",
      "0.5190825462341309 seconds to predict the classes\n",
      "number of estimated clusters 7\n",
      "433 out of 2870\n",
      "15.087% correctly predicted\n",
      "\n",
      "14 attribute classification\n",
      "Fitting data...\n",
      "0.3570554256439209 seconds to fit data\n",
      "Making predictions...\n",
      "0.3142709732055664 seconds to predict the classes\n",
      "number of estimated clusters 7\n",
      "483 out of 2870\n",
      "16.829% correctly predicted\n"
     ]
    },
    {
     "data": {
      "text/plain": [
       "0.16829268292682928"
      ]
     },
     "execution_count": 6,
     "metadata": {},
     "output_type": "execute_result"
    }
   ],
   "source": [
    "# Importing data from each individual emotion file\n",
    "angryset = filehandler.import_csv('../fer2018/fer2018angry.csv')\n",
    "(x_angry, y_angry, _, _) = filehandler.classic_split(angryset, 100)\n",
    "\n",
    "disgustset = filehandler.import_csv('../fer2018/fer2018disgust.csv')\n",
    "(x_disgust, y_disgust, _, _) = filehandler.classic_split(disgustset, 100)\n",
    "\n",
    "fearset = filehandler.import_csv('../fer2018/fer2018fear.csv')\n",
    "(x_fear, y_fear, _, _) = filehandler.classic_split(fearset, 100)\n",
    "\n",
    "happyset = filehandler.import_csv('../fer2018/fer2018happy.csv')\n",
    "(x_happy, y_happy, _, _) = filehandler.classic_split(happyset, 100)\n",
    "\n",
    "sadset = filehandler.import_csv('../fer2018/fer2018sad.csv')\n",
    "(x_sad, y_sad, _, _) = filehandler.classic_split(sadset, 100)\n",
    "\n",
    "surpriseset = filehandler.import_csv('../fer2018/fer2018surprise.csv')\n",
    "(x_surprise, y_surprise, _, _) = filehandler.classic_split(surpriseset, 100)\n",
    "\n",
    "neutralset = filehandler.import_csv('../fer2018/fer2018neutral.csv')\n",
    "(x_neutral, y_neutral, _, _) = filehandler.classic_split(neutralset, 100)\n",
    "\n",
    "\"\"\"\n",
    "BEST FEATURE COLLECTION\n",
    "\"\"\"\n",
    "\n",
    "# Search for top TEN attributes for each emotion\n",
    "print(\"Searching for top 10 attributes...\")\n",
    "x_angry_10 = lrn.get_k_best(x_angry, y_angry, 10)\n",
    "x_disgust_10 = lrn.get_k_best(x_disgust, y_disgust, 10)\n",
    "x_fear_10 = lrn.get_k_best(x_fear, y_fear, 10)\n",
    "x_happy_10 = lrn.get_k_best(x_happy, y_happy, 10)\n",
    "x_sad_10 = lrn.get_k_best(x_sad, y_sad, 10)\n",
    "x_surprise_10 = lrn.get_k_best(x_surprise, y_surprise, 10)\n",
    "x_neutral_10 = lrn.get_k_best(x_neutral, y_neutral, 10)\n",
    "\n",
    "# Search for top FIVE attributes for each emotion\n",
    "print(\"Searching for top 5 attributes...\")\n",
    "x_angry_5 = lrn.get_k_best(x_angry, y_angry, 5)\n",
    "x_disgust_5 = lrn.get_k_best(x_disgust, y_disgust, 5)\n",
    "x_fear_5 = lrn.get_k_best(x_fear, y_fear, 5)\n",
    "x_happy_5 = lrn.get_k_best(x_happy, y_happy, 5)\n",
    "x_sad_5 = lrn.get_k_best(x_sad, y_sad, 5)\n",
    "x_surprise_5 = lrn.get_k_best(x_surprise, y_surprise, 5)\n",
    "x_neutral_5 = lrn.get_k_best(x_neutral, y_neutral, 5)\n",
    "\n",
    "# Search for top TWO attributes for each emotion\n",
    "print(\"Searching for top 2 attributes...\")\n",
    "x_angry_2 = lrn.get_k_best(x_angry, y_angry, 2)\n",
    "x_disgust_2 = lrn.get_k_best(x_disgust, y_disgust, 2)\n",
    "x_fear_2 = lrn.get_k_best(x_fear, y_fear, 2)\n",
    "x_happy_2 = lrn.get_k_best(x_happy, y_happy, 2)\n",
    "x_sad_2 = lrn.get_k_best(x_sad, y_sad, 2)\n",
    "x_surprise_2 = lrn.get_k_best(x_surprise, y_surprise, 2)\n",
    "x_neutral_2 = lrn.get_k_best(x_neutral, y_neutral, 2)\n",
    "\n",
    "\"\"\"\n",
    "DATASET REDUCTION\n",
    "\"\"\"\n",
    "# 14, 35, and 70 non-class attribute reduction:\n",
    "top_attrs = {2 : numpy.array([x_angry_2, x_disgust_2, x_fear_2, x_happy_2, x_sad_2, x_surprise_2, x_neutral_2]).flatten(),\n",
    "        5 : numpy.array([x_angry_5, x_disgust_5, x_fear_5, x_happy_5, x_sad_5, x_surprise_5, x_neutral_5]).flatten(),\n",
    "        10 : numpy.array([x_angry_10, x_disgust_10, x_fear_10, x_happy_10, x_sad_10, x_surprise_10, x_neutral_10]).flatten()}\n",
    "\n",
    "print(\"\\nReducing datasets...\")\n",
    "x_train_70 = lrn.reduce_attr(x_train, top_attrs[10])\n",
    "x_train_35 = lrn.reduce_attr(x_train, top_attrs[5])\n",
    "x_train_14 = lrn.reduce_attr(x_train, top_attrs[2])\n",
    "x_validation_70 = lrn.reduce_attr(x_validation, top_attrs[10])\n",
    "x_validation_35 = lrn.reduce_attr(x_validation, top_attrs[5])\n",
    "x_validation_14 = lrn.reduce_attr(x_validation, top_attrs[2])\n",
    "\n",
    "\"\"\"\n",
    "ATTEMPT TO IMPROVE CLASSIFICATION WITH NEW DATASETS\n",
    "\"\"\"\n",
    "print(\"\\n70 attribute classification\")\n",
    "preds = lrn.get_preds_fitpred(classifier70, x_train_70, x_validation_70)\n",
    "labels = classifier70.labels_\n",
    "labels_unique = numpy.unique(labels)\n",
    "print(\"number of estimated clusters\", len(labels_unique))\n",
    "viewer.overall_accuracy(acc_dct, '70', preds, y_train)\n",
    "#viewer.accuracy_plots('70', preds, y_validation)\n",
    "\n",
    "print(\"\\n35 attribute classification\")\n",
    "preds = lrn.get_preds_fitpred(classifier35, x_train_35, x_validation_35)\n",
    "labels = classifier35.labels_\n",
    "labels_unique = numpy.unique(labels)\n",
    "print(\"number of estimated clusters\", len(labels_unique))\n",
    "viewer.overall_accuracy(acc_dct, '35', preds, y_train)\n",
    "#viewer.accuracy_plots('35', preds, y_validation)\n",
    "\n",
    "print(\"\\n14 attribute classification\")\n",
    "preds = lrn.get_preds_fitpred(classifier14, x_train_14, x_validation_14)\n",
    "labels = classifier14.labels_\n",
    "labels_unique = numpy.unique(labels)\n",
    "print(\"number of estimated clusters\", len(labels_unique))\n",
    "viewer.overall_accuracy(acc_dct, '14', preds, y_train)\n",
    "#viewer.accuracy_plots('14', preds, y_validation)"
   ]
  },
  {
   "cell_type": "code",
   "execution_count": 7,
   "metadata": {},
   "outputs": [
    {
     "name": "stdout",
     "output_type": "stream",
     "text": [
      "\n",
      "10 attribute classification\n",
      "Fitting data...\n",
      "0.558521032333374 seconds to fit data\n",
      "Making predictions...\n",
      "0.43483591079711914 seconds to predict the classes\n",
      "number of estimated clusters 7\n",
      "366 out of 2870\n",
      "12.753% correctly predicted\n",
      "\n",
      "5 attribute classification\n",
      "Fitting data...\n",
      "0.49681520462036133 seconds to fit data\n",
      "Making predictions...\n",
      "0.34607386589050293 seconds to predict the classes\n",
      "number of estimated clusters 7\n",
      "525 out of 2870\n",
      "18.293% correctly predicted\n",
      "\n",
      "2 attribute classification\n",
      "Fitting data...\n",
      "0.27132177352905273 seconds to fit data\n",
      "Making predictions...\n",
      "0.217726469039917 seconds to predict the classes\n",
      "number of estimated clusters 7\n",
      "258 out of 2870\n",
      "8.990% correctly predicted\n"
     ]
    },
    {
     "data": {
      "text/plain": [
       "0.08989547038327526"
      ]
     },
     "execution_count": 7,
     "metadata": {},
     "output_type": "execute_result"
    }
   ],
   "source": [
    "\"\"\"\n",
    "DATASET REDUCTION BASED ON CLASS\n",
    "\"\"\"\n",
    "# 2, 5, and 10 non-class attribute reduction:\n",
    "# the top attributes of each specific emotion\n",
    "top_attrs_emo = {2 : [x_angry_2, x_disgust_2, x_fear_2, x_happy_2, x_sad_2, x_surprise_2, x_neutral_2],\n",
    "                5 : [x_angry_5, x_disgust_5, x_fear_5, x_happy_5, x_sad_5, x_surprise_5, x_neutral_5],\n",
    "                10 : [x_angry_10, x_disgust_10, x_fear_10, x_happy_10, x_sad_10, x_surprise_10, x_neutral_10]}\n",
    "\n",
    "# transforming the overall emotion dataset\n",
    "x_train_10 = lrn.reduce_data_emo(top_attrs_emo, x_train, y_train, 10)\n",
    "x_train_5 = lrn.reduce_data_emo(top_attrs_emo, x_train, y_train, 5)\n",
    "x_train_2 = lrn.reduce_data_emo(top_attrs_emo, x_train, y_train, 2)\n",
    "x_validation_10 = lrn.reduce_data_emo(top_attrs_emo, x_validation, y_validation, 10)\n",
    "x_validation_5 = lrn.reduce_data_emo(top_attrs_emo, x_validation, y_validation, 5)\n",
    "x_validation_2 = lrn.reduce_data_emo(top_attrs_emo, x_validation, y_validation, 2)\n",
    "\n",
    "\"\"\"\n",
    "2nd ATTEMPT TO IMPROVE CLASSIFICATION WITH NEW DATASETS\n",
    "\"\"\"\n",
    "print(\"\\n10 attribute classification\")\n",
    "preds = lrn.get_preds_fitpred(classifier10, x_train_10, x_validation_10)\n",
    "labels = classifier10.labels_\n",
    "labels_unique = numpy.unique(labels)\n",
    "print(\"number of estimated clusters\", len(labels_unique))\n",
    "viewer.overall_accuracy(acc_dct, '10', preds, y_train)\n",
    "#viewer.accuracy_plots('10', preds, y_validation)\n",
    "\n",
    "print(\"\\n5 attribute classification\")\n",
    "preds = lrn.get_preds_fitpred(classifier5, x_train_5, x_validation_5)\n",
    "labels = classifier5.labels_\n",
    "labels_unique = numpy.unique(labels)\n",
    "print(\"number of estimated clusters\", len(labels_unique))\n",
    "viewer.overall_accuracy(acc_dct, '5', preds, y_train)\n",
    "#viewer.accuracy_plots('5', preds, y_validation)\n",
    "\n",
    "print(\"\\n2 attribute classification\")\n",
    "preds = lrn.get_preds_fitpred(classifier2, x_train_2, x_validation_2)\n",
    "labels = classifier2.labels_\n",
    "labels_unique = numpy.unique(labels)\n",
    "print(\"number of estimated clusters\", len(labels_unique))\n",
    "viewer.overall_accuracy(acc_dct, '2', preds, y_train)\n",
    "#viewer.accuracy_plots('2', preds, y_validation)"
   ]
  },
  {
   "cell_type": "code",
   "execution_count": 8,
   "metadata": {},
   "outputs": [
    {
     "data": {
      "image/png": "[encoded data removed]",
      "text/plain": [
       "<Figure size 576x432 with 1 Axes>"
      ]
     },
     "metadata": {
      "needs_background": "light"
     },
     "output_type": "display_data"
    },
    {
     "data": {
      "text/plain": [
       "<Figure size 432x288 with 0 Axes>"
      ]
     },
     "metadata": {},
     "output_type": "display_data"
    }
   ],
   "source": [
    "\"\"\"\n",
    "ACCURACY SUMMARY\n",
    "\"\"\"\n",
    "viewer.disp_acc_summary(acc_dct)"
   ]
  }
 ],
 "metadata": {
  "kernelspec": {
   "display_name": "Python 3",
   "language": "python",
   "name": "python3"
  },
  "language_info": {
   "codemirror_mode": {
    "name": "ipython",
    "version": 3
   },
   "file_extension": ".py",
   "mimetype": "text/x-python",
   "name": "python",
   "nbconvert_exporter": "python",
   "pygments_lexer": "ipython3",
   "version": "3.7.1"
  }
 },
 "nbformat": 4,
 "nbformat_minor": 2
}
