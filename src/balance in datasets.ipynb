{
 "cells": [
  {
   "cell_type": "code",
   "execution_count": 1,
   "metadata": {},
   "outputs": [],
   "source": [
    "%matplotlib inline"
   ]
  },
  {
   "cell_type": "code",
   "execution_count": 2,
   "metadata": {},
   "outputs": [],
   "source": [
    "import os\n",
    "import time\n",
    "import sys\n",
    "import utils.learning as lrn\n",
    "\n",
    "# libs\n",
    "import matplotlib\n",
    "import matplotlib.pyplot as plt\n",
    "import sklearn.cluster as skcluster\n",
    "import numpy\n",
    "\n",
    "# project files\n",
    "import utils.filehandler as filehandler\n",
    "import view.plot as viewer"
   ]
  },
  {
   "cell_type": "code",
   "execution_count": 3,
   "metadata": {},
   "outputs": [
    {
     "name": "stdout",
     "output_type": "stream",
     "text": [
      "importing ../fer2018/fer2018.csv\n"
     ]
    },
    {
     "name": "stderr",
     "output_type": "stream",
     "text": [
      "F:\\Code_ecole\\datamining\\datamining_coursework2\\src\\utils\\filehandler.py:21: FutureWarning: Method .as_matrix will be removed in a future version. Use .values instead.\n",
      "  data = data_frame.as_matrix()\n"
     ]
    },
    {
     "name": "stdout",
     "output_type": "stream",
     "text": [
      "\n",
      "importation done in: 12.364716291427612\n"
     ]
    }
   ],
   "source": [
    "# debug mode: python main.py -d\n",
    "DEBUG = True\n",
    "\n",
    "# defining hyperparameters\n",
    "Kcluster = 7 # there is 7 emotions\n",
    "\n",
    "# import data\n",
    "dataset = filehandler.import_csv('../fer2018/fer2018.csv')\n",
    "percentage = 0.75"
   ]
  },
  {
   "cell_type": "markdown",
   "metadata": {},
   "source": [
    "### is the dataset balanced ?"
   ]
  },
  {
   "cell_type": "code",
   "execution_count": 4,
   "metadata": {},
   "outputs": [
    {
     "data": {
      "text/plain": [
       "[547, 4002, 4953, 5121, 6077, 6198, 8989]"
      ]
     },
     "execution_count": 4,
     "metadata": {},
     "output_type": "execute_result"
    }
   ],
   "source": [
    "class_happy = 0\n",
    "class_sad = 0\n",
    "class_angry = 0\n",
    "class_disgust = 0\n",
    "class_fear = 0\n",
    "class_neutral = 0\n",
    "class_surprise = 0\n",
    "for position in range (dataset.shape[0]):\n",
    "    if(dataset[position, 0] == 0):\n",
    "        class_angry += 1\n",
    "    if(dataset[position, 0] == 1):\n",
    "        class_disgust += 1\n",
    "    if(dataset[position, 0] == 2):\n",
    "        class_fear += 1\n",
    "    if(dataset[position, 0] == 3):\n",
    "        class_happy += 1\n",
    "    if(dataset[position, 0] == 4):\n",
    "        class_sad += 1\n",
    "    if(dataset[position, 0] == 5):\n",
    "        class_surprise += 1\n",
    "    if(dataset[position, 0] == 6):\n",
    "        class_neutral += 1\n",
    "\n",
    "rank = [class_angry, class_disgust, class_fear, class_happy, class_sad, class_surprise, class_neutral]\n",
    "rank.sort()\n",
    "rank"
   ]
  },
  {
   "cell_type": "code",
   "execution_count": 5,
   "metadata": {},
   "outputs": [
    {
     "name": "stdout",
     "output_type": "stream",
     "text": [
      "happy:..... 8989\n",
      "sad:....... 6077\n",
      "angry:..... 4953\n",
      "disgust:... 547\n",
      "fear:...... 5121\n",
      "neutral:... 6198\n",
      "surprise:.. 4002\n"
     ]
    }
   ],
   "source": [
    "print(\"happy:.....\", class_happy)\n",
    "print(\"sad:.......\", class_sad)\n",
    "print(\"angry:.....\", class_angry)\n",
    "print(\"disgust:...\", class_disgust)\n",
    "print(\"fear:......\", class_fear)\n",
    "print(\"neutral:...\", class_neutral)\n",
    "print(\"surprise:..\", class_surprise)"
   ]
  },
  {
   "cell_type": "markdown",
   "metadata": {},
   "source": [
    "### restablishing correct balance in the dataset"
   ]
  },
  {
   "cell_type": "code",
   "execution_count": 10,
   "metadata": {},
   "outputs": [
    {
     "name": "stdout",
     "output_type": "stream",
     "text": [
      "smallest= 410\n"
     ]
    }
   ],
   "source": [
    "balance_x_train = []\n",
    "balance_y_train = []\n",
    "balance_x_val = []\n",
    "balance_y_val = []\n",
    "\n",
    "smallest_dataset = int(rank[0] * percentage)\n",
    "print(\"smallest=\", smallest_dataset)\n",
    "angry = 0\n",
    "disgust = 0\n",
    "fear = 0\n",
    "happy = 0\n",
    "sad = 0\n",
    "surprise  = 0\n",
    "neutral  = 0\n",
    "\n",
    "for position in range (dataset.shape[0]):\n",
    "    if(dataset[position, 0] == 0 and angry<smallest_dataset):\n",
    "        angry += 1\n",
    "        balance_x_train.append(dataset[position, 1])\n",
    "        balance_y_train.append(dataset[position, 0])\n",
    "    if(dataset[position, 0] == 0 and angry>=smallest_dataset):\n",
    "        angry += 1\n",
    "        balance_x_val.append(dataset[position, 1])\n",
    "        balance_y_val.append(dataset[position, 0])\n",
    "        \n",
    "    if(dataset[position, 0] == 1 and disgust<smallest_dataset):\n",
    "        disgust += 1\n",
    "        balance_x_train.append(dataset[position, 1])\n",
    "        balance_y_train.append(dataset[position, 0])\n",
    "    if(dataset[position, 0] == 0 and disgust>=smallest_dataset):\n",
    "        disgust += 1\n",
    "        balance_x_val.append(dataset[position, 1])\n",
    "        balance_y_val.append(dataset[position, 0])\n",
    "        \n",
    "    if(dataset[position, 0] == 2 and fear<smallest_dataset):\n",
    "        fear += 1\n",
    "        balance_x_train.append(dataset[position, 1])\n",
    "        balance_y_train.append(dataset[position, 0])\n",
    "    if(dataset[position, 0] == 2 and fear>=smallest_dataset):\n",
    "        fear += 1\n",
    "        balance_x_val.append(dataset[position, 1])\n",
    "        balance_y_val.append(dataset[position, 0])\n",
    "        \n",
    "    if(dataset[position, 0] == 3 and happy<smallest_dataset):\n",
    "        happy += 1\n",
    "        balance_x_train.append(dataset[position, 1])\n",
    "        balance_y_train.append(dataset[position, 0])\n",
    "    if(dataset[position, 0] == 3 and happy>=smallest_dataset):\n",
    "        happy += 1\n",
    "        balance_x_val.append(dataset[position, 1])\n",
    "        balance_y_val.append(dataset[position, 0])\n",
    "        \n",
    "    if(dataset[position, 0] == 4 and sad<smallest_dataset):\n",
    "        sad += 1\n",
    "        balance_x_train.append(dataset[position, 1])\n",
    "        balance_y_train.append(dataset[position, 0])\n",
    "    if(dataset[position, 0] == 4 and sad>=smallest_dataset):\n",
    "        sad += 1\n",
    "        balance_x_val.append(dataset[position, 1])\n",
    "        balance_y_val.append(dataset[position, 0])\n",
    "        \n",
    "    if(dataset[position, 0] == 5 and surprise<smallest_dataset):\n",
    "        surprise += 1\n",
    "        balance_x_train.append(dataset[position, 1])\n",
    "        balance_y_train.append(dataset[position, 0])\n",
    "    if(dataset[position, 0] == 5 and surprise>=smallest_dataset):\n",
    "        surprise += 1\n",
    "        balance_x_val.append(dataset[position, 1])\n",
    "        balance_y_val.append(dataset[position, 0])\n",
    "        \n",
    "    if(dataset[position, 0] == 6 and neutral<smallest_dataset):\n",
    "        neutral += 1\n",
    "        balance_x_train.append(dataset[position, 1])\n",
    "        balance_y_train.append(dataset[position, 0])\n",
    "    if(dataset[position, 0] == 6 and neutral>=smallest_dataset):\n",
    "        neutral += 1\n",
    "        balance_x_val.append(dataset[position, 1])\n",
    "        balance_y_val.append(dataset[position, 0])\n",
    "        \n",
    "balance_x_train = numpy.array(balance_x_train)\n",
    "balance_y_train = numpy.array(balance_y_train)\n",
    "balance_x_val = numpy.array(balance_x_val)\n",
    "balance_y_val = numpy.array(balance_y_val)"
   ]
  },
  {
   "cell_type": "code",
   "execution_count": 7,
   "metadata": {},
   "outputs": [
    {
     "name": "stdout",
     "output_type": "stream",
     "text": [
      "train: 2877\n",
      "Validation: 33953\n"
     ]
    }
   ],
   "source": [
    "print(\"train:\", balance_x_train.shape[0])\n",
    "print(\"Validation:\", balance_x_val.shape[0])"
   ]
  }
 ],
 "metadata": {
  "kernelspec": {
   "display_name": "Python 3",
   "language": "python",
   "name": "python3"
  },
  "language_info": {
   "codemirror_mode": {
    "name": "ipython",
    "version": 3
   },
   "file_extension": ".py",
   "mimetype": "text/x-python",
   "name": "python",
   "nbconvert_exporter": "python",
   "pygments_lexer": "ipython3",
   "version": "3.7.1"
  }
 },
 "nbformat": 4,
 "nbformat_minor": 2
}
